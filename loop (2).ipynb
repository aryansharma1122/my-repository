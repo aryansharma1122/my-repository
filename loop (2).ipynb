{
  "cells": [
    {
      "cell_type": "code",
      "execution_count": 2,
      "metadata": {
        "id": "Itmo2gPJa5DH"
      },
      "outputs": [],
      "source": [
        "# Loop in Python ---->\n",
        "# (1). while Loop\n",
        "# (2). For Loop"
      ]
    },
    {
      "cell_type": "code",
      "execution_count": null,
      "metadata": {},
      "outputs": [],
      "source": []
    },
    {
      "cell_type": "code",
      "execution_count": 3,
      "metadata": {
        "id": "Y3aa50-LbMgY"
      },
      "outputs": [],
      "source": [
        "# (1). while Loop ---->\n",
        "\n",
        "# initialization\n",
        "# condition\n",
        "# Increment or decrement"
      ]
    },
    {
      "cell_type": "code",
      "execution_count": 4,
      "metadata": {
        "id": "C3Ipr344bjsS"
      },
      "outputs": [],
      "source": [
        "# Q.1 Write a program who print from 1 to 3 ?"
      ]
    },
    {
      "cell_type": "code",
      "execution_count": 5,
      "metadata": {
        "colab": {
          "base_uri": "https://localhost:8080/"
        },
        "id": "hfKLVSHFb0D0",
        "outputId": "15eba360-a202-475a-db5d-d6c65707ddd0"
      },
      "outputs": [
        {
          "name": "stdout",
          "output_type": "stream",
          "text": [
            "1\n",
            "2\n",
            "3\n"
          ]
        }
      ],
      "source": [
        "i=1 ##Initialize\n",
        "n=3\n",
        "while(i<=n):  ## Condition\n",
        "  print(i)\n",
        "  i=i+1    ###Increment"
      ]
    },
    {
      "cell_type": "code",
      "execution_count": 6,
      "metadata": {
        "id": "yeaq5U6pcCXj"
      },
      "outputs": [],
      "source": [
        "# # step-1 (i=1,n=3)\n",
        "# while(1<=3):\n",
        "#   print(1)\n",
        "#   i = 1 + 1 = 2\n",
        "\n",
        "# # step-2 (i=2,n=3)\n",
        "# while(2<=3):\n",
        "#   print(2)\n",
        "#   i=2+1=3\n",
        "\n",
        "# # step-3 (i=3,n=3)\n",
        "# while(3<=3):\n",
        "#   print(3)\n",
        "#   i = 3 + 1 = 4\n",
        "\n",
        "# # step-4 (i=4,n=3)\n",
        "# while(4<=3):\n",
        "#   break\n",
        "\n",
        "# Final Output ----> 1,2,3"
      ]
    },
    {
      "cell_type": "code",
      "execution_count": 7,
      "metadata": {
        "id": "hbKkp2Vcch7B"
      },
      "outputs": [],
      "source": [
        "# Q.2 Write a user defined program who will take starting and last number from user and print all values."
      ]
    },
    {
      "cell_type": "code",
      "execution_count": 10,
      "metadata": {
        "colab": {
          "base_uri": "https://localhost:8080/"
        },
        "id": "oexO8E5EcrF4",
        "outputId": "cbb986f8-8f5d-4fea-a952-645f591e83fb"
      },
      "outputs": [
        {
          "name": "stdout",
          "output_type": "stream",
          "text": [
            "Enter first number:1\n",
            "Enter last number:10\n",
            "Enter step value:3\n",
            "1\n",
            "4\n",
            "7\n",
            "10\n"
          ]
        }
      ],
      "source": [
        "i = int(input(\"Enter first number:\"))\n",
        "n = int(input(\"Enter last number:\"))\n",
        "p = int(input(\"Enter step value:\"))\n",
        "while(i<=n):\n",
        "  print(i)\n",
        "  i = i + p"
      ]
    },
    {
      "cell_type": "code",
      "execution_count": 11,
      "metadata": {
        "id": "AwwhM4KUc0rx"
      },
      "outputs": [],
      "source": [
        "# Q.3 Write a program who print from 5 to 1 and step value will be 2 ."
      ]
    },
    {
      "cell_type": "code",
      "execution_count": 12,
      "metadata": {
        "id": "BtewzXKogrAw"
      },
      "outputs": [],
      "source": [
        "# Q.4 Write a program who calculate sum of a given number's range ."
      ]
    },
    {
      "cell_type": "code",
      "execution_count": 16,
      "metadata": {
        "colab": {
          "base_uri": "https://localhost:8080/"
        },
        "id": "2tKn-P3LgzpQ",
        "outputId": "cc7c16b1-4ebb-4059-8fdb-76eb22fe2917"
      },
      "outputs": [
        {
          "name": "stdout",
          "output_type": "stream",
          "text": [
            "10\n"
          ]
        }
      ],
      "source": [
        "i = 1\n",
        "n = 4\n",
        "sum = 0\n",
        "while(i<=n):\n",
        "  sum = sum + i\n",
        "  i = i + 1\n",
        "print(sum)"
      ]
    },
    {
      "cell_type": "code",
      "execution_count": 14,
      "metadata": {
        "id": "ktc50toug_h3"
      },
      "outputs": [],
      "source": [
        "# 1+2+3+4 = 10"
      ]
    },
    {
      "cell_type": "code",
      "execution_count": 17,
      "metadata": {
        "id": "8EhMi5x4hDCA"
      },
      "outputs": [],
      "source": [
        "# # step-1 (i=1,n=4,sum=0)\n",
        "# while(1<=4):\n",
        "#   sum = 0 + 1 = 1\n",
        "#   i = 1 + 1 = 2\n",
        "\n",
        "# # step-2 (i=2,n=4,sum=1)\n",
        "# while(2<=4):\n",
        "#   sum=1 + 2 = 3\n",
        "#   i = 2 + 1 = 3\n",
        "\n",
        "# # step-3 (i=3,n=4,sum=3)\n",
        "# while(3<=4):\n",
        "#   sum= 3 + 3 = 6\n",
        "#   i = 3 + 1 = 4\n",
        "\n",
        "# # step-4 (i=4,n=4,sum=6)\n",
        "# while(4<=4):\n",
        "#   sum = 6 + 4 = 10\n",
        "#   i = 4 + 1 = 5\n",
        "\n",
        "# # step-5 (i=5,n=4,sum=10)\n",
        "# while(5<=4):\n",
        "#   break\n",
        "\n",
        "# # Final Output ---> sum = 10"
      ]
    },
    {
      "cell_type": "code",
      "execution_count": 18,
      "metadata": {
        "id": "rU0CmxCijDeJ"
      },
      "outputs": [],
      "source": [
        "# Q.5 Write a program who calculate sum of square of a given number ?"
      ]
    },
    {
      "cell_type": "code",
      "execution_count": 19,
      "metadata": {
        "colab": {
          "base_uri": "https://localhost:8080/"
        },
        "id": "kA-zsC-FjLpV",
        "outputId": "eec7c1d8-bb5f-4334-8de0-8063df1ff456"
      },
      "outputs": [
        {
          "name": "stdout",
          "output_type": "stream",
          "text": [
            "14\n"
          ]
        }
      ],
      "source": [
        "i=1\n",
        "n=3\n",
        "sum=0\n",
        "while(i<=n):\n",
        "  sum = sum + i**2\n",
        "  i = i + 1\n",
        "print(sum)"
      ]
    },
    {
      "cell_type": "code",
      "execution_count": 20,
      "metadata": {
        "id": "zKW3D-lgjaf_"
      },
      "outputs": [],
      "source": [
        "# 1**2 + 2**2 + 3**2  = 1+4+9 = 14"
      ]
    },
    {
      "cell_type": "code",
      "execution_count": 21,
      "metadata": {
        "id": "iVG8jR_tjhcD"
      },
      "outputs": [],
      "source": [
        "# # step-1 (i=1,n=3,sum=0)\n",
        "# while(1<=3):\n",
        "#   sum=0+1**2 = 1\n",
        "#   i = 1+1 = 2\n",
        "\n",
        "# # step-2 (i=2,n=3,sum=1)\n",
        "# while(2<=3):\n",
        "#   sum=1+2**2 = 1+4=5\n",
        "#   i=2+1=3\n",
        "\n",
        "# # step-3 (i=3,n=3,sum=5)\n",
        "# while(3<=3):\n",
        "#   sum = 5 + 3**2 = 5 + 9 = 14\n",
        "#   i = 3+1 = 4\n",
        "\n",
        "# # step-4 (i=4,n=3,sum=14)\n",
        "# while(4<=3):\n",
        "#   break\n",
        "\n",
        "# Final Sum = 14"
      ]
    },
    {
      "cell_type": "code",
      "execution_count": 22,
      "metadata": {
        "id": "kRDADzQpldEp"
      },
      "outputs": [],
      "source": [
        "# Q.5 sum of cube in a given range . user defined ??\n",
        "\n",
        "# 5**3 = 5*5*5"
      ]
    },
    {
      "cell_type": "code",
      "execution_count": null,
      "metadata": {
        "id": "boo_j2p8lo6P"
      },
      "outputs": [],
      "source": [
        "age=10\n",
        "print(\"memory of age=>\", id(age))\n",
        "x=age\n",
        "print(\"memory of \")\n",
        "\n"
      ]
    }
  ],
  "metadata": {
    "colab": {
      "provenance": []
    },
    "kernelspec": {
      "display_name": "Python 3",
      "name": "python3"
    },
    "language_info": {
      "name": "python"
    }
  },
  "nbformat": 4,
  "nbformat_minor": 0
}
