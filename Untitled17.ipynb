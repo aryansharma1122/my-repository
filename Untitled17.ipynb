{
  "cells": [
    {
      "cell_type": "code",
      "execution_count": 1,
      "metadata": {
        "colab": {
          "base_uri": "https://localhost:8080/"
        },
        "id": "84PtZniQGaaY",
        "outputId": "5e429539-c2b6-466b-97b5-10ecca2b5d49"
      },
      "outputs": [
        {
          "name": "stdout",
          "output_type": "stream",
          "text": [
            "30\n",
            "40\n",
            "70\n"
          ]
        }
      ],
      "source": [
        "list1 = [10,20,30,40,3,2,70]\n",
        "#[23,3]\n",
        "for index in range(0, len(list1) ):\n",
        "  element=list1[index]\n",
        "  if( element >20):\n",
        "      print(element)"
      ]
    },
    {
      "cell_type": "code",
      "execution_count": 3,
      "metadata": {
        "colab": {
          "base_uri": "https://localhost:8080/"
        },
        "id": "MU-eDocmW_Q-",
        "outputId": "2abedccc-4d1b-4205-d102-5e212a494eb1"
      },
      "outputs": [
        {
          "name": "stdout",
          "output_type": "stream",
          "text": [
            "[23]\n",
            "[23, 3]\n"
          ]
        }
      ],
      "source": [
        "list1 = [10,23,30,40,3,2,70]\n",
        "new=[]\n",
        "for index in range(0, len(list1) ):\n",
        "  if (list1[index] %2 !=0):\n",
        "    new.append( list1[index] )\n",
        "    print(new)"
      ]
    },
    {
      "cell_type": "code",
      "execution_count": 14,
      "metadata": {
        "colab": {
          "base_uri": "https://localhost:8080/"
        },
        "id": "ur5e4qkuZ1iy",
        "outputId": "26383f0d-da13-472c-e5bf-a83af955c8e0"
      },
      "outputs": [
        {
          "name": "stdout",
          "output_type": "stream",
          "text": [
            "2\n"
          ]
        }
      ],
      "source": [
        "list1 = [10,23,30,40,3,2,70]\n",
        "min=list1[0]\n",
        "for index in range(0, len(list1)):\n",
        "   if(list1[index] < min ):\n",
        "    min=list1[index]\n",
        "\n",
        "print(min)\n"
      ]
    }
  ],
  "metadata": {
    "colab": {
      "provenance": []
    },
    "kernelspec": {
      "display_name": "Python 3",
      "name": "python3"
    },
    "language_info": {
      "codemirror_mode": {
        "name": "ipython",
        "version": 3
      },
      "file_extension": ".py",
      "mimetype": "text/x-python",
      "name": "python",
      "nbconvert_exporter": "python",
      "pygments_lexer": "ipython3",
      "version": "3.11.9"
    }
  },
  "nbformat": 4,
  "nbformat_minor": 0
}
