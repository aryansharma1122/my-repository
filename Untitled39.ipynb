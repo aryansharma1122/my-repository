{
  "cells": [
    {
      "cell_type": "code",
      "execution_count": 4,
      "metadata": {
        "colab": {
          "base_uri": "https://localhost:8080/"
        },
        "id": "6wwob7nwgA_x",
        "outputId": "57d3c763-9df3-47b7-cb43-767e55f6408c"
      },
      "outputs": [
        {
          "name": "stdout",
          "output_type": "stream",
          "text": [
            "*\n",
            "++++++++++++++++++++++\n",
            "*\n",
            "*\n",
            "++++++++++++++++++++++\n",
            "*\n",
            "*\n",
            "*\n",
            "++++++++++++++++++++++\n",
            "*\n",
            "*\n",
            "*\n",
            "*\n",
            "++++++++++++++++++++++\n",
            "*\n",
            "*\n",
            "*\n",
            "*\n",
            "*\n",
            "++++++++++++++++++++++\n"
          ]
        }
      ],
      "source": [
        "for i in range(1,6):\n",
        "  for j in range (i):\n",
        "# for i in range (2,2):\n",
        "     print(\"*\")\n",
        "  print(\"++++++++++++++++++++++\")"
      ]
    },
    {
      "cell_type": "code",
      "execution_count": 5,
      "metadata": {
        "colab": {
          "base_uri": "https://localhost:8080/"
        },
        "id": "TSCHLKNugWIq",
        "outputId": "661e6abe-ae62-487d-e8cc-101541946111"
      },
      "outputs": [
        {
          "name": "stdout",
          "output_type": "stream",
          "text": [
            "*++++++++++++++++++++++\n",
            "**++++++++++++++++++++++\n",
            "***++++++++++++++++++++++\n",
            "****++++++++++++++++++++++\n",
            "*****++++++++++++++++++++++\n"
          ]
        }
      ],
      "source": [
        "for i in range(1,6):\n",
        "  for j in range (i):\n",
        "# for i in range (2,2):\n",
        "     print(\"*\",end='')\n",
        "  print(\"++++++++++++++++++++++\")"
      ]
    },
    {
      "cell_type": "code",
      "execution_count": 10,
      "metadata": {
        "colab": {
          "base_uri": "https://localhost:8080/"
        },
        "id": "rAy09eT0gbBx",
        "outputId": "bd68263e-cf96-45f5-a244-80487c3ac683"
      },
      "outputs": [
        {
          "name": "stdout",
          "output_type": "stream",
          "text": [
            "*\n",
            "**\n",
            "***\n",
            "****\n",
            "*****\n"
          ]
        }
      ],
      "source": [
        "for i in range(1,6):\n",
        "  for j in range (i):\n",
        "# for i in range (2,2):\n",
        "     print(\"*\",end='')\n",
        "  print()"
      ]
    },
    {
      "cell_type": "code",
      "execution_count": 25,
      "metadata": {
        "colab": {
          "base_uri": "https://localhost:8080/"
        },
        "id": "tnYM26eqghv7",
        "outputId": "221f4818-ec3b-4916-fdd6-5675c540ca10"
      },
      "outputs": [
        {
          "name": "stdout",
          "output_type": "stream",
          "text": [
            "*****\n",
            "****\n",
            "***\n",
            "**\n",
            "*\n"
          ]
        }
      ],
      "source": [
        "for i in range(1,6):\n",
        "  for j in range (6-i):\n",
        "     print(\"*\",end='')\n",
        "  print()"
      ]
    },
    {
      "cell_type": "code",
      "execution_count": 26,
      "metadata": {
        "colab": {
          "base_uri": "https://localhost:8080/"
        },
        "id": "PU4Hd02PhXRZ",
        "outputId": "794d48a4-9953-4aa8-97c5-733b158d800c"
      },
      "outputs": [
        {
          "name": "stdout",
          "output_type": "stream",
          "text": [
            "******\n",
            "*****\n",
            "****\n",
            "***\n",
            "**\n",
            "*\n"
          ]
        }
      ],
      "source": [
        "for i in range(6,0,-1):\n",
        "  for j in range (i):\n",
        "\n",
        "     print(\"*\",end='')\n",
        "  print()"
      ]
    },
    {
      "cell_type": "code",
      "execution_count": 42,
      "metadata": {
        "colab": {
          "base_uri": "https://localhost:8080/"
        },
        "id": "INzTpGyGiGEm",
        "outputId": "cfcde755-1d01-4db2-e61c-4ea5b3401498"
      },
      "outputs": [
        {
          "name": "stdout",
          "output_type": "stream",
          "text": [
            "              * \n",
            "            * * \n",
            "          * * * \n",
            "        * * * * \n",
            "      * * * * * \n",
            "    * * * * * * \n",
            "  * * * * * * * \n",
            "* * * * * * * * \n"
          ]
        }
      ],
      "source": [
        "for i in range(1, 8 + 1):\n",
        "    for j in range(8  - i):\n",
        "        print(\" \", end=\" \")\n",
        "    for k in range(i):\n",
        "        print(\"*\", end=\" \")\n",
        "    print()"
      ]
    },
    {
      "cell_type": "code",
      "execution_count": 43,
      "metadata": {
        "colab": {
          "base_uri": "https://localhost:8080/"
        },
        "id": "j5CzDloNi8ic",
        "outputId": "5cdc69ce-f772-4f01-8ca5-fa60f20c4cd9"
      },
      "outputs": [
        {
          "name": "stdout",
          "output_type": "stream",
          "text": [
            "********\n",
            "*******\n",
            "******\n",
            "*****\n",
            "****\n",
            "***\n",
            "**\n",
            "*\n"
          ]
        }
      ],
      "source": [
        "for i in range(8,0,-1):\n",
        "     print(\"*\" *i)\n"
      ]
    },
    {
      "cell_type": "code",
      "execution_count": 58,
      "metadata": {
        "colab": {
          "base_uri": "https://localhost:8080/"
        },
        "id": "r5SZWllgjf4P",
        "outputId": "963f9c0d-c38b-4f5f-88fe-21e6277672b7"
      },
      "outputs": [
        {
          "name": "stdout",
          "output_type": "stream",
          "text": [
            "            *   \n",
            "          * *   \n",
            "        * * *   \n",
            "      * * * *   \n",
            "    * * * * *   \n",
            "  * * * * * *   \n",
            "* * * * * * *   \n"
          ]
        }
      ],
      "source": [
        "for i in range(1,8):\n",
        "  for j in range([],8-i):\n",
        "      print(\" \", end=\" \")\n",
        "  for k in range(i):\n",
        "     print(\"*\", end=\" \")\n",
        "  print(\"  \")\n",
        "\n"
      ]
    },
    {
      "cell_type": "code",
      "execution_count": 52,
      "metadata": {
        "colab": {
          "base_uri": "https://localhost:8080/"
        },
        "id": "Y02bkLhvmtPH",
        "outputId": "04194127-f939-4627-a079-518b757f2626"
      },
      "outputs": [
        {
          "name": "stdout",
          "output_type": "stream",
          "text": [
            "* * * * * * \n",
            "* * * * * \n",
            "* * * * \n",
            "* * * \n",
            "* * \n",
            "* \n"
          ]
        }
      ],
      "source": [
        "\n",
        "for i in range(6, 0,-1 ):\n",
        "    for j in range(1, i + 1):\n",
        "        print(\"*\", end=\" \")\n",
        "    print()"
      ]
    },
    {
      "cell_type": "code",
      "execution_count": 71,
      "metadata": {
        "colab": {
          "base_uri": "https://localhost:8080/"
        },
        "id": "SUoItgHmn8BR",
        "outputId": "0a5a08ec-bd2e-46c4-c2e9-99b0589708ca"
      },
      "outputs": [
        {
          "name": "stdout",
          "output_type": "stream",
          "text": [
            "* * * * * \n",
            "*       * \n",
            "*       * \n",
            "*       * \n",
            "* * * * * \n"
          ]
        }
      ],
      "source": [
        "\n",
        "for i in range(1, 5 + 1):\n",
        "    for j in range(1, 5 + 1):\n",
        "        if i == 1 or i == 5 or j == 1 or j == 5 :\n",
        "            print(\"*\", end=\" \")\n",
        "        else:\n",
        "            print(\" \", end=\" \")\n",
        "    print( )\n",
        "\n",
        "\n"
      ]
    },
    {
      "cell_type": "code",
      "execution_count": 72,
      "metadata": {
        "colab": {
          "base_uri": "https://localhost:8080/"
        },
        "id": "ruok_4Kzq6M5",
        "outputId": "6ae88fba-1a33-4e21-cccf-7d270dd927a4"
      },
      "outputs": [
        {
          "name": "stdout",
          "output_type": "stream",
          "text": [
            "* \n",
            "* * \n",
            "*   * \n",
            "*     * \n",
            "* * * * * \n"
          ]
        }
      ],
      "source": [
        "\n",
        "for i in range(1, 5 + 1):\n",
        "    for j in range(1, i + 1):\n",
        "        if j == 1 or i == 5 or i == j:\n",
        "            print(\"*\", end=\" \")\n",
        "        else:\n",
        "            print(\" \", end=\" \")\n",
        "    print()"
      ]
    },
    {
      "cell_type": "code",
      "execution_count": null,
      "metadata": {},
      "outputs": [],
      "source": []
    }
  ],
  "metadata": {
    "colab": {
      "provenance": []
    },
    "kernelspec": {
      "display_name": "Python 3",
      "name": "python3"
    },
    "language_info": {
      "name": "python"
    }
  },
  "nbformat": 4,
  "nbformat_minor": 0
}
