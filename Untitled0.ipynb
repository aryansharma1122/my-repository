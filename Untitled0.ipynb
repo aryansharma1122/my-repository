{
  "nbformat": 4,
  "nbformat_minor": 0,
  "metadata": {
    "colab": {
      "provenance": []
    },
    "kernelspec": {
      "name": "python3",
      "display_name": "Python 3"
    },
    "language_info": {
      "name": "python"
    }
  },
  "cells": [
    {
      "cell_type": "code",
      "execution_count": 4,
      "metadata": {
        "colab": {
          "base_uri": "https://localhost:8080/"
        },
        "id": "gd529rntdT8-",
        "outputId": "a797101f-95b1-44f9-ad80-2a069727f4ca"
      },
      "outputs": [
        {
          "output_type": "stream",
          "name": "stdout",
          "text": [
            "5\n",
            "4\n",
            "3\n",
            "2\n",
            "1\n"
          ]
        }
      ],
      "source": [
        "#for i in range(5,1,-1)\n",
        "i=5\n",
        "while(i>0):\n",
        "  print(i)\n",
        "  i-=1"
      ]
    },
    {
      "cell_type": "code",
      "source": [
        "#get the count and sum of number which are even in the range(1 ta 300)\n",
        "#using while"
      ],
      "metadata": {
        "id": "MCKZcRR_fjLm"
      },
      "execution_count": null,
      "outputs": []
    },
    {
      "cell_type": "code",
      "source": [
        "i=10\n",
        "while(i<0):\n",
        "  print(i)\n",
        "  i+=1\n",
        "  print()"
      ],
      "metadata": {
        "id": "mt-6gT-vfDnP"
      },
      "execution_count": 42,
      "outputs": []
    },
    {
      "cell_type": "code",
      "source": [
        "i=1\n",
        "total=0\n",
        "while(i<=300):\n",
        "  if(i%2==0):\n",
        "    total +=i\n",
        "  i+=1j\n",
        "print(\"total\", total)\n",
        "i+=1\n",
        "print(\"total\", total)\n"
      ],
      "metadata": {
        "colab": {
          "base_uri": "https://localhost:8080/"
        },
        "id": "_Op-Cp1PgR9k",
        "outputId": "2339248d-7eec-470a-c644-bc67ce70c111"
      },
      "execution_count": 16,
      "outputs": [
        {
          "output_type": "stream",
          "name": "stdout",
          "text": [
            "total 22650\n",
            "total 22650\n"
          ]
        }
      ]
    },
    {
      "cell_type": "code",
      "source": [
        "x=168\n",
        "while(x!=0):\n",
        "  remainder=x%10\n",
        "  x=x//10\n",
        "  print(remainder, x)\n",
        ""
      ],
      "metadata": {
        "colab": {
          "base_uri": "https://localhost:8080/"
        },
        "id": "GQ8eSZupjLzU",
        "outputId": "453115b8-05ab-4028-8fb8-2fcc60c84644"
      },
      "execution_count": 13,
      "outputs": [
        {
          "output_type": "stream",
          "name": "stdout",
          "text": [
            "8 16\n",
            "6 1\n",
            "1 0\n"
          ]
        }
      ]
    },
    {
      "cell_type": "code",
      "source": [
        "x=153\n",
        "dup=x\n",
        "while(x!=0):\n",
        "  remaindre=x%10\n",
        "  x=x//10\n",
        "  total=total+remainder**3\n",
        "\n",
        "print(total,dup)\n",
        "#153=>1**3+5**3+3***3\n"
      ],
      "metadata": {
        "colab": {
          "base_uri": "https://localhost:8080/"
        },
        "id": "YCJ2dpV4pIKb",
        "outputId": "63249113-9cf2-40e7-fb7e-b2e1a04d224a"
      },
      "execution_count": 39,
      "outputs": [
        {
          "output_type": "stream",
          "name": "stdout",
          "text": [
            "15 153\n"
          ]
        }
      ]
    },
    {
      "cell_type": "code",
      "source": [
        "x=153\n",
        "dup=x\n",
        "total=0\n",
        "while(x!=0):\n",
        "  remainder=x%10\n",
        "  x=x//10\n",
        "  total=total+remainder**3\n",
        "\n",
        "\n",
        "print(total,dup)"
      ],
      "metadata": {
        "colab": {
          "base_uri": "https://localhost:8080/"
        },
        "id": "snY0lrDkpzt_",
        "outputId": "7ebffdc9-cd29-4d0b-a3bc-476f85b73a97"
      },
      "execution_count": 45,
      "outputs": [
        {
          "output_type": "stream",
          "name": "stdout",
          "text": [
            "153 153\n"
          ]
        }
      ]
    },
    {
      "cell_type": "code",
      "source": [
        "x=1478\n",
        "dup=x\n",
        "total=0\n",
        "while(x!=0):\n",
        "  remainder=x%10\n",
        "  x=x//10\n",
        "  total=total+remainder**4\n",
        "\n",
        "\n",
        "print(total,dup)"
      ],
      "metadata": {
        "colab": {
          "base_uri": "https://localhost:8080/"
        },
        "id": "7T6-zK6vr6hA",
        "outputId": "38798f33-ff6a-47ad-ea75-70198c9bfe02"
      },
      "execution_count": 47,
      "outputs": [
        {
          "output_type": "stream",
          "name": "stdout",
          "text": [
            "6754 1478\n"
          ]
        }
      ]
    },
    {
      "cell_type": "code",
      "source": [
        "\n"
      ],
      "metadata": {
        "id": "buDtUAmwvF2o"
      },
      "execution_count": null,
      "outputs": []
    }
  ]
}