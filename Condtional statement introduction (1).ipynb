{
  "nbformat": 4,
  "nbformat_minor": 0,
  "metadata": {
    "colab": {
      "provenance": []
    },
    "kernelspec": {
      "name": "python3",
      "display_name": "Python 3"
    },
    "language_info": {
      "name": "python"
    }
  },
  "cells": [
    {
      "cell_type": "code",
      "execution_count": 1,
      "metadata": {
        "id": "miPQCSUdQp5u"
      },
      "outputs": [],
      "source": [
        "# Introduction to Python\n",
        "\n",
        "# Fundamentals of Python\n",
        "# (1). Data type\n",
        "# (2). Variable\n",
        "# (3). print() and input()"
      ]
    },
    {
      "cell_type": "code",
      "source": [
        "# (1). Data type\n",
        "# (a). Integer ---> All positive or negative values .\n",
        "# Ex. 34 , 67 , -12\n",
        "\n",
        "# (b). Float  ---> All decimal values .\n",
        "# Ex. 12.34 , 67.89\n",
        "\n",
        "# (c). String  ---> '' , \" \" , ''' '''\n",
        "# Ex.  'sam' , \"sam\" , '''sam'''\n",
        "\n",
        "# (d). Boolean  ---> True , False\n"
      ],
      "metadata": {
        "id": "fWL0mLULQ708"
      },
      "execution_count": 2,
      "outputs": []
    },
    {
      "cell_type": "code",
      "source": [
        "# type() ----> It will return data type of element .\n",
        "type(45)\n",
        "type(35.78)\n",
        "type('sam')\n",
        "type(5>4)"
      ],
      "metadata": {
        "colab": {
          "base_uri": "https://localhost:8080/"
        },
        "id": "FCO5kRGdRms1",
        "outputId": "4d5226ac-ebe3-4621-939f-6a18aaa49ef5"
      },
      "execution_count": 6,
      "outputs": [
        {
          "output_type": "execute_result",
          "data": {
            "text/plain": [
              "bool"
            ]
          },
          "metadata": {},
          "execution_count": 6
        }
      ]
    },
    {
      "cell_type": "code",
      "source": [
        "# Variable ---> This is a container in which we can store or assign our values ."
      ],
      "metadata": {
        "id": "7NL65PqlRs-3"
      },
      "execution_count": 7,
      "outputs": []
    },
    {
      "cell_type": "code",
      "source": [
        "# (3). Input() -----> It will take query from users  and by default its output will be in\n",
        "# string format ."
      ],
      "metadata": {
        "id": "SyLVmQViR-ih"
      },
      "execution_count": 8,
      "outputs": []
    },
    {
      "cell_type": "code",
      "source": [
        "a = 1\n",
        "b = 2\n",
        "c = a + b\n",
        "print(c)"
      ],
      "metadata": {
        "colab": {
          "base_uri": "https://localhost:8080/"
        },
        "id": "cBAGBQFcSeV-",
        "outputId": "5c2d15ae-3dba-49a0-9116-fc6555000f6d"
      },
      "execution_count": 9,
      "outputs": [
        {
          "output_type": "stream",
          "name": "stdout",
          "text": [
            "3\n"
          ]
        }
      ]
    },
    {
      "cell_type": "code",
      "source": [
        "a = '1'\n",
        "b = '2'\n",
        "c = a + b\n",
        "print(c)"
      ],
      "metadata": {
        "colab": {
          "base_uri": "https://localhost:8080/"
        },
        "id": "opJdCEX8Sll7",
        "outputId": "fcdcf5df-2c0e-4805-bbcc-aa5ad9eeb7fc"
      },
      "execution_count": 10,
      "outputs": [
        {
          "output_type": "stream",
          "name": "stdout",
          "text": [
            "12\n"
          ]
        }
      ]
    },
    {
      "cell_type": "code",
      "source": [
        "a = input(\"Enter first number:\")\n",
        "b = input(\"Enter second number:\")\n",
        "c = a + b\n",
        "print(\"Total=\" , c)"
      ],
      "metadata": {
        "colab": {
          "base_uri": "https://localhost:8080/"
        },
        "id": "nddurubrSq2g",
        "outputId": "0a98d3de-c7a0-486b-a4e9-ac4dacbdb3e5"
      },
      "execution_count": 11,
      "outputs": [
        {
          "output_type": "stream",
          "name": "stdout",
          "text": [
            "Enter first number:1\n",
            "Enter second number:2\n",
            "Total= 12\n"
          ]
        }
      ]
    },
    {
      "cell_type": "code",
      "source": [
        "# type-casting ----> Using this method , we can change or update data type ."
      ],
      "metadata": {
        "id": "F-06z03MS8B4"
      },
      "execution_count": 12,
      "outputs": []
    },
    {
      "cell_type": "code",
      "source": [
        "a = '12'\n",
        "int(a)\n",
        "float(a)"
      ],
      "metadata": {
        "colab": {
          "base_uri": "https://localhost:8080/"
        },
        "id": "XCuiQk9rTQz0",
        "outputId": "eecccf48-69e5-4297-c65b-efc3c2eed29c"
      },
      "execution_count": 14,
      "outputs": [
        {
          "output_type": "execute_result",
          "data": {
            "text/plain": [
              "12.0"
            ]
          },
          "metadata": {},
          "execution_count": 14
        }
      ]
    },
    {
      "cell_type": "code",
      "source": [
        "a = int(input(\"Enter first number:\"))\n",
        "b = int(input(\"Enter second number:\"))\n",
        "c = a + b\n",
        "print(\"Total=\" , c)"
      ],
      "metadata": {
        "colab": {
          "base_uri": "https://localhost:8080/"
        },
        "id": "Ja63dUv0TTEY",
        "outputId": "f161bff5-1771-49b5-cd04-f244ef12513d"
      },
      "execution_count": 15,
      "outputs": [
        {
          "output_type": "stream",
          "name": "stdout",
          "text": [
            "Enter first number:1\n",
            "Enter second number:2\n",
            "Total= 3\n"
          ]
        }
      ]
    },
    {
      "cell_type": "code",
      "source": [
        "a = input(\"Enter first number:\")\n",
        "b = input(\"Enter second number:\")\n",
        "c = int(a) + int(b)\n",
        "print(\"Total=\" , c)"
      ],
      "metadata": {
        "colab": {
          "base_uri": "https://localhost:8080/"
        },
        "id": "PwUvD2_ATgqm",
        "outputId": "767adb3b-d81a-40aa-84f5-2a729da6aa1c"
      },
      "execution_count": 16,
      "outputs": [
        {
          "output_type": "stream",
          "name": "stdout",
          "text": [
            "Enter first number:1\n",
            "Enter second number:2\n",
            "Total= 3\n"
          ]
        }
      ]
    },
    {
      "cell_type": "code",
      "source": [
        "# Mostly Used Operators in Python\n",
        "# (1) Addition(+) ---> 2+3 = 5\n",
        "# (2). Subtraction(-) ----> 5-2=3\n",
        "# (3). Multiplication(*) ----> 2*5 = 10\n",
        "# (4). Division(/) ---> 5.2 = 2.5\n",
        "# (5). Floor Division(//) --> It will convert all the values in round figure . ---> 5//2 = 2\n",
        "# (6). Module(%) ---> It is used for remainder calculation . ---> 25%10= 5(Remainder)\n",
        "# (7). Equal to(=) ---> It is used for assign the values . a = 5\n",
        "# (8). Equal Equal to(==) ---> It is used for comparioson of 2 values . ---> 'sam'=='raj' , 4==5\n",
        "# (9). Not Equal to(!=) ---> 4!=5 , 'sam'!='mohit'\n",
        "# (10).Greater than(>) ----> 5>4\n",
        "# (11). Less than (<) ---> 4<8\n",
        "# (12). Greater than or Equal to(>=) ---> 5>=5\n",
        "# (13). Less than or Equal to(<=) ---> 4<=5"
      ],
      "metadata": {
        "id": "c9IfoZiyTl30"
      },
      "execution_count": 17,
      "outputs": []
    },
    {
      "cell_type": "code",
      "source": [
        "# Conditional Statement ---->\n",
        "# if\n",
        "# elif   <----->  User_query\n",
        "# else"
      ],
      "metadata": {
        "id": "VvL1afHCW0hb"
      },
      "execution_count": 18,
      "outputs": []
    },
    {
      "cell_type": "code",
      "source": [
        "a = \"sam\"\n",
        "if(a==\"sam\"):\n",
        "  print(\"Yes\")\n",
        "elif(a==\"raj\"):\n",
        "  print(\"No\")\n",
        "elif(a==\"rohit\"):\n",
        "  print(\"ok\")\n",
        "else:\n",
        "  print(\"Try Again...\")"
      ],
      "metadata": {
        "colab": {
          "base_uri": "https://localhost:8080/"
        },
        "id": "yCPdx2TmXQOJ",
        "outputId": "f2b72738-f2c5-4326-c035-eb14bc8ea2b8"
      },
      "execution_count": 24,
      "outputs": [
        {
          "output_type": "stream",
          "name": "stdout",
          "text": [
            "Yes\n"
          ]
        }
      ]
    },
    {
      "cell_type": "code",
      "source": [
        "# Q.2 Create a program who will tell user is child , young , old ."
      ],
      "metadata": {
        "id": "a_ouTOT5XuWx"
      },
      "execution_count": 25,
      "outputs": []
    },
    {
      "cell_type": "code",
      "source": [
        "a = int(input(\"Enter number:\"))\n",
        "if(0<=a<=20):\n",
        "  print(\"Child\")\n",
        "elif(21<=a<=50):\n",
        "  print(\"Young\")\n",
        "elif(51<=a<=80):\n",
        "  print(\"Old\")\n",
        "else:\n",
        "  print(\"Please enter a valid age....\")"
      ],
      "metadata": {
        "colab": {
          "base_uri": "https://localhost:8080/"
        },
        "id": "9jI8Q6X0YDlO",
        "outputId": "73629b00-702d-4dab-860e-6af896cc043d"
      },
      "execution_count": 29,
      "outputs": [
        {
          "output_type": "stream",
          "name": "stdout",
          "text": [
            "Enter number:78\n",
            "Old\n"
          ]
        }
      ]
    },
    {
      "cell_type": "code",
      "source": [
        "# Nested Condtional Statement ---->\n",
        "print(\"Pizza:100\" , \"burgur:50\")\n",
        "a = input(\"Enter you item:\")\n",
        "if(a ==\"Pizza\"):\n",
        "  print(\"Your yummy item is Pizza\")\n",
        "  b = int(input(\"Enter your quantity:\"))\n",
        "  c = b*100\n",
        "  if(c>1000):\n",
        "    print(\"Your 10% discounted price is :\" , c*0.9)\n",
        "  else:\n",
        "    print(\"Your total payment is :\" ,b*100)\n",
        "\n",
        "elif(a== \"burgur\"):\n",
        "  print(\"Yoour yummy item is burgur\")\n",
        "else:\n",
        "  print(\"Select a valid Menu....\")"
      ],
      "metadata": {
        "colab": {
          "base_uri": "https://localhost:8080/"
        },
        "id": "FoABtM7vYYyL",
        "outputId": "866a3a34-fde7-4747-f376-dd3a256707c4"
      },
      "execution_count": 35,
      "outputs": [
        {
          "output_type": "stream",
          "name": "stdout",
          "text": [
            "Pizza:100 burgur:50\n",
            "Enter you item:Pizza\n",
            "Your yummy item is pizza\n",
            "Enter your quantity:5\n",
            "Your total payment is : 500\n"
          ]
        }
      ]
    },
    {
      "cell_type": "code",
      "source": [
        "a = 100\n",
        "b = a*0.9\n",
        "b"
      ],
      "metadata": {
        "colab": {
          "base_uri": "https://localhost:8080/"
        },
        "id": "FKATv6BdayoW",
        "outputId": "c0842b00-2054-4efb-8937-269095e745c0"
      },
      "execution_count": 33,
      "outputs": [
        {
          "output_type": "execute_result",
          "data": {
            "text/plain": [
              "90.0"
            ]
          },
          "metadata": {},
          "execution_count": 33
        }
      ]
    },
    {
      "cell_type": "code",
      "source": [],
      "metadata": {
        "id": "d2TGlkwOdKr9"
      },
      "execution_count": null,
      "outputs": []
    },
    {
      "cell_type": "code",
      "source": [
        "# Councelling system ---> usser course(python, java , js) ---> course ---> fees , time duration ."
      ],
      "metadata": {
        "id": "RnLt_lu8bWWB"
      },
      "execution_count": null,
      "outputs": []
    }
  ]
}