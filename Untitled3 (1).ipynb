{
  "cells": [
    {
      "cell_type": "code",
      "execution_count": null,
      "metadata": {
        "colab": {
          "base_uri": "https://localhost:8080/"
        },
        "id": "bjDCNJKGRpEc",
        "outputId": "86889063-c608-48ca-f09e-104da321444f"
      },
      "outputs": [],
      "source": [
        "n = input(\"enter String: \")\n",
        "i = int(input(\"enter the string position: \"))\n",
        "while(i<len(n)):\n",
        "  print(n[i])\n",
        "  i += 1"
      ]
    },
    {
      "cell_type": "code",
      "execution_count": 3,
      "metadata": {
        "colab": {
          "base_uri": "https://localhost:8080/"
        },
        "id": "B07P19uaRs-o",
        "outputId": "8026e288-ba64-436f-c19b-269d9ed8ed70"
      },
      "outputs": [
        {
          "name": "stdout",
          "output_type": "stream",
          "text": [
            "enter String: 2\n",
            "enter a charactor: 4\n"
          ]
        }
      ],
      "source": [
        "n = input(\"enter String: \")\n",
        "m = input(\"enter a charactor: \")\n",
        "i = 0\n",
        "while(i<len(n)):\n",
        "  if(n[i]==m):\n",
        "    print(i,n[i])\n",
        "  i += 1"
      ]
    },
    {
      "cell_type": "code",
      "execution_count": 2,
      "metadata": {
        "colab": {
          "base_uri": "https://localhost:8080/"
        },
        "id": "l6OSc0qmRw7f",
        "outputId": "5db03994-30b0-4fdf-c3f7-0ab57c6c341b"
      },
      "outputs": [
        {
          "name": "stdout",
          "output_type": "stream",
          "text": [
            "Enter a string: 2\n",
            "First and Second half is Equal.\n"
          ]
        }
      ],
      "source": [
        "data = input(\"Enter a string: \")\n",
        "j = 0\n",
        "i = len(data)\n",
        "count = 0\n",
        "if(i%2==0):\n",
        "  i = len(data)//2\n",
        "else:\n",
        "  i = len(data)//2+1\n",
        "while(i<len(data)):\n",
        "  if(data[i] != data[j]):\n",
        "    count+=1\n",
        "    break\n",
        "  i += 1\n",
        "  j += 1\n",
        "if(count == 1):\n",
        "  print(\"First and Second half is not Equal.\")\n",
        "else:\n",
        "  print(\"First and Second half is Equal.\")\n"
      ]
    },
    {
      "cell_type": "code",
      "execution_count": null,
      "metadata": {},
      "outputs": [],
      "source": [
        "for i in range (1,9):\n",
        "    print(\"-----> python student\" ,i)\n",
        "\n",
        "    for j in range (1,7):\n",
        "        print(\"assign=>\",j,end=\"\")\n",
        "\n",
        "    print(\" \")"
      ]
    },
    {
      "cell_type": "code",
      "execution_count": null,
      "metadata": {},
      "outputs": [],
      "source": [
        "z'"
      ]
    }
  ],
  "metadata": {
    "colab": {
      "provenance": []
    },
    "kernelspec": {
      "display_name": "Python 3",
      "name": "python3"
    },
    "language_info": {
      "codemirror_mode": {
        "name": "ipython",
        "version": 3
      },
      "file_extension": ".py",
      "mimetype": "text/x-python",
      "name": "python",
      "nbconvert_exporter": "python",
      "pygments_lexer": "ipython3",
      "version": "3.11.9"
    }
  },
  "nbformat": 4,
  "nbformat_minor": 0
}
