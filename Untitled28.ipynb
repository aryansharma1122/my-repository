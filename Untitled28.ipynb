{
  "nbformat": 4,
  "nbformat_minor": 0,
  "metadata": {
    "colab": {
      "provenance": []
    },
    "kernelspec": {
      "name": "python3",
      "display_name": "Python 3"
    },
    "language_info": {
      "name": "python"
    }
  },
  "cells": [
    {
      "cell_type": "code",
      "execution_count": 4,
      "metadata": {
        "colab": {
          "base_uri": "https://localhost:8080/"
        },
        "id": "PfK6ca-wQt0w",
        "outputId": "04902e02-75d1-480d-f2bc-4742b70b581d"
      },
      "outputs": [
        {
          "output_type": "stream",
          "name": "stdout",
          "text": [
            "enter : aryan sharma\n",
            "['a', 'r', 'y', 'a', 'n', ' ', 's', 'h', 'a', 'r', 'm', 'a']\n"
          ]
        }
      ],
      "source": [
        "data=list(input(\"enter : \"))\n",
        "print(data)"
      ]
    },
    {
      "cell_type": "code",
      "source": [
        "data=list(input([1,2,3,4]))\n",
        "print(data)"
      ],
      "metadata": {
        "colab": {
          "base_uri": "https://localhost:8080/"
        },
        "id": "PYpIhDtdSlcP",
        "outputId": "26814bde-959d-41d2-93a7-33a401feaf47"
      },
      "execution_count": 5,
      "outputs": [
        {
          "output_type": "stream",
          "name": "stdout",
          "text": [
            "[1, 2, 3, 4]aryan\n",
            "['a', 'r', 'y', 'a', 'n']\n"
          ]
        }
      ]
    },
    {
      "cell_type": "code",
      "source": [
        "data=[1,2,3,4,5,57,78]\n",
        "def filter_num(n):\n",
        "  return n%2==0\n",
        "new=set(filter(filter_num,data))\n",
        "print(new)"
      ],
      "metadata": {
        "colab": {
          "base_uri": "https://localhost:8080/"
        },
        "id": "8wlEHy3vUd6J",
        "outputId": "1596cf8a-0132-4015-de91-bc707bbe62b4"
      },
      "execution_count": 11,
      "outputs": [
        {
          "output_type": "stream",
          "name": "stdout",
          "text": [
            "{2, 4, 78}\n"
          ]
        }
      ]
    },
    {
      "cell_type": "code",
      "source": [
        "def display(*kuch_bhi):\n",
        "  print(kuch_bhi)\n",
        "  print(type(kuch_bhi))\n",
        "display(1,2,3,4,5,6,7,8,9)"
      ],
      "metadata": {
        "colab": {
          "base_uri": "https://localhost:8080/"
        },
        "id": "xuG0-9dtSlWB",
        "outputId": "edb9dc5c-94d6-4c7b-bd78-63c343c0452a"
      },
      "execution_count": 12,
      "outputs": [
        {
          "output_type": "stream",
          "name": "stdout",
          "text": [
            "(1, 2, 3, 4, 5, 6, 7, 8, 9)\n",
            "<class 'tuple'>\n"
          ]
        }
      ]
    },
    {
      "cell_type": "code",
      "source": [
        "def add(*args):\n",
        "  sum=0\n",
        "  for i in args:\n",
        "    if i%2==0:\n",
        "         sum+=i\n",
        "  return sum\n",
        "print(add(1,2,3,4,5,6,7,8,9,10))"
      ],
      "metadata": {
        "colab": {
          "base_uri": "https://localhost:8080/"
        },
        "id": "7ETtvJ0xWxot",
        "outputId": "64041636-14bf-4060-a61f-b341bf0d7b91"
      },
      "execution_count": 23,
      "outputs": [
        {
          "output_type": "stream",
          "name": "stdout",
          "text": [
            "30\n"
          ]
        }
      ]
    },
    {
      "cell_type": "code",
      "source": [
        "def add(*args):\n",
        "  sum=0\n",
        "  for i in args:\n",
        "    sum+=i\n",
        "  return sum\n",
        "print(add(1,2,3,4,5,6,7,8,9,10))"
      ],
      "metadata": {
        "colab": {
          "base_uri": "https://localhost:8080/"
        },
        "id": "tCc8Qc9OYGLr",
        "outputId": "7332b6e7-aeae-4f51-cf09-e1f526d7b372"
      },
      "execution_count": 24,
      "outputs": [
        {
          "output_type": "stream",
          "name": "stdout",
          "text": [
            "55\n"
          ]
        }
      ]
    }
  ]
}