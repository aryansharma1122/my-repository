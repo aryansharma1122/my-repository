{
  "nbformat": 4,
  "nbformat_minor": 0,
  "metadata": {
    "colab": {
      "provenance": []
    },
    "kernelspec": {
      "name": "python3",
      "display_name": "Python 3"
    },
    "language_info": {
      "name": "python"
    }
  },
  "cells": [
    {
      "cell_type": "code",
      "execution_count": 2,
      "metadata": {
        "colab": {
          "base_uri": "https://localhost:8080/"
        },
        "id": "Q-YisbtHVqE0",
        "outputId": "b4fd2f10-037c-4eab-dfb0-c6be062c13b5"
      },
      "outputs": [
        {
          "output_type": "stream",
          "name": "stdout",
          "text": [
            "yash\n"
          ]
        }
      ],
      "source": [
        "myAdhar ={10:\"yash\" ,11:\"happy\"}\n",
        "print(myAdhar [10])"
      ]
    },
    {
      "cell_type": "code",
      "source": [
        "myAdhar ={10:\"yash\" ,11:\"happy\"}\n",
        "print(myAdhar [10])\n",
        "\n",
        "myAdhar[10]=\"sad\"\n",
        "myAdhar[19]=\"kajal\"\n",
        "print(myAdhar)"
      ],
      "metadata": {
        "colab": {
          "base_uri": "https://localhost:8080/"
        },
        "id": "jnO2ipm8ZCGF",
        "outputId": "53333c77-498e-4256-e7dd-919f7c082961"
      },
      "execution_count": 6,
      "outputs": [
        {
          "output_type": "stream",
          "name": "stdout",
          "text": [
            "yash\n",
            "{10: 'sad', 11: 'happy', 19: 'kajal'}\n"
          ]
        }
      ]
    },
    {
      "cell_type": "code",
      "source": [
        "myAdhar ={10:\"yash\" ,11:\"happy\", \"salary\":80000}\n",
        "print(myAdhar [\"salary\"] )\n"
      ],
      "metadata": {
        "colab": {
          "base_uri": "https://localhost:8080/"
        },
        "id": "CtYWV-UNaRUg",
        "outputId": "d25e286e-c0ba-4196-de97-7c53cb12ede3"
      },
      "execution_count": 10,
      "outputs": [
        {
          "output_type": "stream",
          "name": "stdout",
          "text": [
            "80000\n"
          ]
        }
      ]
    },
    {
      "cell_type": "code",
      "source": [
        "myAdhar ={10:\"yash\" ,11:\"happy\", \"salary\":80000}\n",
        "print(myAdhar)"
      ],
      "metadata": {
        "colab": {
          "base_uri": "https://localhost:8080/"
        },
        "id": "8y2R9nPxasY9",
        "outputId": "dd7afcc5-a76b-4029-ef6c-60492b82157e"
      },
      "execution_count": 11,
      "outputs": [
        {
          "output_type": "stream",
          "name": "stdout",
          "text": [
            "{10: 'yash', 11: 'happy', 'salary': 80000}\n"
          ]
        }
      ]
    },
    {
      "cell_type": "code",
      "source": [
        "myAdhar ={10:\"yash\" ,11:\"happy\", \"salary\":80000}\n",
        "myAdhar . pop(11)\n",
        "print(myAdhar)"
      ],
      "metadata": {
        "colab": {
          "base_uri": "https://localhost:8080/"
        },
        "id": "oAO5QsfKa3r-",
        "outputId": "9515921d-b064-49ef-cdd3-5bd33086f209"
      },
      "execution_count": 13,
      "outputs": [
        {
          "output_type": "stream",
          "name": "stdout",
          "text": [
            "{10: 'yash', 'salary': 80000}\n"
          ]
        }
      ]
    },
    {
      "cell_type": "code",
      "source": [
        "myAdhar ={\"salary\":80000}\n",
        "myAdhar [\"salary\"] = myAdhar [\"salary\"] +1000\n",
        "print(myAdhar)\n"
      ],
      "metadata": {
        "colab": {
          "base_uri": "https://localhost:8080/"
        },
        "id": "OKAXraTHbMFk",
        "outputId": "ace63bb4-f9f4-4120-83e4-c4a8734e6f14"
      },
      "execution_count": 20,
      "outputs": [
        {
          "output_type": "stream",
          "name": "stdout",
          "text": [
            "{'salary': 81000}\n"
          ]
        }
      ]
    },
    {
      "cell_type": "code",
      "source": [
        "myAdhar ={\"salary\":80000}\n",
        "myAdhar [\"salary\"] = myAdhar [\"salary\"] -1000\n",
        "print(myAdhar)\n"
      ],
      "metadata": {
        "colab": {
          "base_uri": "https://localhost:8080/"
        },
        "id": "O96wI-pcdL3s",
        "outputId": "2938eea3-4f69-4fd0-8f61-44ddf7472b0a"
      },
      "execution_count": 21,
      "outputs": [
        {
          "output_type": "stream",
          "name": "stdout",
          "text": [
            "{'salary': 79000}\n"
          ]
        }
      ]
    },
    {
      "cell_type": "code",
      "source": [
        "myAdhar={\"total\":0}\n",
        "for i in range (1,19):\n",
        " myAdhar[\"total\"] = myAdhar[\"total\"] +1\n",
        "print(myAdhar)"
      ],
      "metadata": {
        "colab": {
          "base_uri": "https://localhost:8080/"
        },
        "id": "iS_gt4SbdQO8",
        "outputId": "4614122a-b807-48ef-8c33-e03f01e08c78"
      },
      "execution_count": 28,
      "outputs": [
        {
          "output_type": "stream",
          "name": "stdout",
          "text": [
            "{'total': 18}\n"
          ]
        }
      ]
    },
    {
      "cell_type": "code",
      "metadata": {
        "colab": {
          "base_uri": "https://localhost:8080/"
        },
        "id": "d5918624",
        "outputId": "111249d2-29ef-4f3e-d52c-3a0099311c9b"
      },
      "source": [
        "a={}\n",
        "i=0\n",
        "while i<10:\n",
        " a[i]=i+i\n",
        " i=i+1\n",
        "a.pop(1)\n",
        "print(a)"
      ],
      "execution_count": 33,
      "outputs": [
        {
          "output_type": "stream",
          "name": "stdout",
          "text": [
            "{0: 0, 2: 4, 3: 6, 4: 8, 5: 10, 6: 12, 7: 14, 8: 16, 9: 18}\n"
          ]
        }
      ]
    },
    {
      "cell_type": "code",
      "source": [
        "data=\"tushar\"\n",
        "mydict={\"count\":0}\n",
        "for i in data:\n",
        "  print(i)\n",
        "  mydict[\"count\"] +=1"
      ],
      "metadata": {
        "colab": {
          "base_uri": "https://localhost:8080/"
        },
        "id": "ixEJHKMegvmz",
        "outputId": "964496b0-b45d-44ef-a102-ba7d8559a742"
      },
      "execution_count": 34,
      "outputs": [
        {
          "output_type": "stream",
          "name": "stdout",
          "text": [
            "t\n",
            "u\n",
            "s\n",
            "h\n",
            "a\n",
            "r\n"
          ]
        }
      ]
    },
    {
      "cell_type": "code",
      "source": [
        "a =\"abcdefghik\"\n",
        "dict ={\"total\":10}\n",
        "count=0\n",
        "for i in a:\n",
        "  if(i== \"a\" or i==\"e\" or i==\"i\" or i==\"o\" or i==\"u\"):\n",
        "    count+=1\n",
        "dict[\"total\"]=count\n",
        "print(dict)\n"
      ],
      "metadata": {
        "colab": {
          "base_uri": "https://localhost:8080/"
        },
        "id": "q9IxpuzvhVBK",
        "outputId": "1ecf6960-9948-438c-f19e-2982aa9a64c1"
      },
      "execution_count": 35,
      "outputs": [
        {
          "output_type": "stream",
          "name": "stdout",
          "text": [
            "{'total': 3}\n"
          ]
        }
      ]
    },
    {
      "cell_type": "code",
      "source": [
        "data={}\n",
        "for i in range(0,6):\n",
        "  data[i]=i*i\n",
        "print(data)\n",
        "\n"
      ],
      "metadata": {
        "colab": {
          "base_uri": "https://localhost:8080/"
        },
        "id": "qDAvfwybjCdX",
        "outputId": "bf1ccfb5-e7f1-47b6-a4ba-68c61a306095"
      },
      "execution_count": 37,
      "outputs": [
        {
          "output_type": "stream",
          "name": "stdout",
          "text": [
            "{0: 0, 1: 1, 2: 4, 3: 9, 4: 16, 5: 25}\n"
          ]
        }
      ]
    },
    {
      "cell_type": "code",
      "source": [
        "s =\"adefghi\"\n",
        "dict ={\"total\":7}\n",
        "count=0\n",
        "for i in a:\n",
        "  if(i== \"a\" or i==\"e\" or i==\"i\" or i==\"o\" or i==\"u\"):\n",
        "    count+=1\n",
        "dict[\"total\"]=count\n",
        "print(dict)"
      ],
      "metadata": {
        "colab": {
          "base_uri": "https://localhost:8080/"
        },
        "id": "psnwLgGrjhMY",
        "outputId": "4915d598-2c81-462f-d395-558595b68614"
      },
      "execution_count": 39,
      "outputs": [
        {
          "output_type": "stream",
          "name": "stdout",
          "text": [
            "{'total': 3}\n"
          ]
        }
      ]
    },
    {
      "cell_type": "code",
      "source": [
        "s =\"adefghi\"\n",
        "dict={}\n",
        "for i in s:\n",
        " if(i in \"aeiou\"):\n",
        "  dict[i] =1\n",
        "print(dict)"
      ],
      "metadata": {
        "colab": {
          "base_uri": "https://localhost:8080/"
        },
        "id": "r9QIRgPWlffv",
        "outputId": "233887ef-06c4-4b52-d0a5-d4602c32b8de"
      },
      "execution_count": 47,
      "outputs": [
        {
          "output_type": "stream",
          "name": "stdout",
          "text": [
            "{'a': 1, 'e': 1, 'i': 1}\n"
          ]
        }
      ]
    },
    {
      "cell_type": "code",
      "source": [],
      "metadata": {
        "id": "PCsm9HU-nCA0"
      },
      "execution_count": null,
      "outputs": []
    }
  ]
}