{
  "nbformat": 4,
  "nbformat_minor": 0,
  "metadata": {
    "colab": {
      "provenance": []
    },
    "kernelspec": {
      "name": "python3",
      "display_name": "Python 3"
    },
    "language_info": {
      "name": "python"
    }
  },
  "cells": [
    {
      "cell_type": "code",
      "source": [
        "#Q5\n",
        "for i in range(4,0,-1):\n",
        "  x=68\n",
        "  for j in range (i,0,-1):\n",
        "    print(chr(x),end=\" \" )\n",
        "    x-=1\n",
        "  print(\"\")"
      ],
      "metadata": {
        "colab": {
          "base_uri": "https://localhost:8080/"
        },
        "id": "PQVnB2ZGcRt7",
        "outputId": "f0fd21af-63ed-41e3-98ac-a1e4485b21f7"
      },
      "execution_count": 20,
      "outputs": [
        {
          "output_type": "stream",
          "name": "stdout",
          "text": [
            "D C B A \n",
            "D C B \n",
            "D C \n",
            "D \n"
          ]
        }
      ]
    },
    {
      "cell_type": "code",
      "source": [
        "for i in range(1,5):\n",
        "  x=65\n",
        "  for j in range (1,i+1):\n",
        "    print (chr(x), end=\"\")\n",
        "    x+=1\n",
        "  print(\"\")"
      ],
      "metadata": {
        "colab": {
          "base_uri": "https://localhost:8080/"
        },
        "id": "4P7vT5nfddev",
        "outputId": "831f1777-352a-47b4-fab6-3006ac604dba"
      },
      "execution_count": 27,
      "outputs": [
        {
          "output_type": "stream",
          "name": "stdout",
          "text": [
            "A\n",
            "AB\n",
            "ABC\n",
            "ABCD\n"
          ]
        }
      ]
    },
    {
      "cell_type": "code",
      "source": [
        "x = 70\n",
        "for i in range(1,5):\n",
        "\n",
        "  for j in range(1,i+1):\n",
        "     print(chr(x) , end = \" \")\n",
        "     x = x+2\n",
        "  print(\" \")"
      ],
      "metadata": {
        "colab": {
          "base_uri": "https://localhost:8080/"
        },
        "id": "a0T1jJN5ddYb",
        "outputId": "93ecd92e-f69f-454f-92a5-da4056dcaecd"
      },
      "execution_count": 28,
      "outputs": [
        {
          "output_type": "stream",
          "name": "stdout",
          "text": [
            "F  \n",
            "H J  \n",
            "L N P  \n",
            "R T V X  \n"
          ]
        }
      ]
    },
    {
      "cell_type": "code",
      "source": [
        "for i in range(1,6):\n",
        "\n",
        "  for j in range(1,i+1):\n",
        "    if j%2!=0:\n",
        "      print(1, end=\" \")\n",
        "    else:\n",
        "      print(2, end=\" \")\n",
        "  print(\" \")"
      ],
      "metadata": {
        "id": "d2c5MspmjAfy",
        "outputId": "0df5acc7-a550-4f56-e7a5-a2a1b8a08186",
        "colab": {
          "base_uri": "https://localhost:8080/"
        }
      },
      "execution_count": 29,
      "outputs": [
        {
          "output_type": "stream",
          "name": "stdout",
          "text": [
            "1  \n",
            "1 2  \n",
            "1 2 1  \n",
            "1 2 1 2  \n",
            "1 2 1 2 1  \n"
          ]
        }
      ]
    },
    {
      "cell_type": "code",
      "source": [
        "x = 10\n",
        "for i in range(1,4):\n",
        "\n",
        "  for j in range(1,i+1):\n",
        "    print(x,end=\" \")\n",
        "    x+=1\n",
        "  print(\" \")"
      ],
      "metadata": {
        "id": "mBBORh3hjKNV",
        "outputId": "54e44c39-5f00-4cd1-cea2-43610b0625be",
        "colab": {
          "base_uri": "https://localhost:8080/"
        }
      },
      "execution_count": 30,
      "outputs": [
        {
          "output_type": "stream",
          "name": "stdout",
          "text": [
            "10  \n",
            "11 12  \n",
            "13 14 15  \n"
          ]
        }
      ]
    },
    {
      "cell_type": "code",
      "source": [
        "for i in range (1,5):\n",
        "  x = 65\n",
        "  for j in range(1,i+1):\n",
        "    print(chr(x) , end= \" \")\n",
        "    x+=1\n",
        "  print(\" \")"
      ],
      "metadata": {
        "id": "cxPhuAu-jMD3",
        "outputId": "6b7e356d-dccd-4efd-fe1e-1f340db4fafa",
        "colab": {
          "base_uri": "https://localhost:8080/"
        }
      },
      "execution_count": 31,
      "outputs": [
        {
          "output_type": "stream",
          "name": "stdout",
          "text": [
            "A  \n",
            "A B  \n",
            "A B C  \n",
            "A B C D  \n"
          ]
        }
      ]
    },
    {
      "cell_type": "code",
      "source": [
        "for i in range(4 , 0,-1):\n",
        "  for s in range(4-i,0,-1):\n",
        "    print(\" \",end = \" \")\n",
        "  for j in range(i,0,-1):\n",
        "\n",
        "    print(\"*\",end= \" \")\n",
        "  print(\" \")\n"
      ],
      "metadata": {
        "id": "C0ux6gFfjMew",
        "outputId": "f6abea74-9567-4a48-f609-b2797254b66d",
        "colab": {
          "base_uri": "https://localhost:8080/"
        }
      },
      "execution_count": 32,
      "outputs": [
        {
          "output_type": "stream",
          "name": "stdout",
          "text": [
            "* * * *  \n",
            "  * * *  \n",
            "    * *  \n",
            "      *  \n"
          ]
        }
      ]
    },
    {
      "cell_type": "code",
      "source": [
        "for i in range(1,5):\n",
        "  a = 10\n",
        "  for j in range(1,i+1):\n",
        "    print((a), end=\" \")\n",
        "    a = a+1\n",
        "  print(\" \")"
      ],
      "metadata": {
        "id": "snWHdsPNjihf",
        "outputId": "e6a6291b-6a2d-467d-9143-43d12d5566a6",
        "colab": {
          "base_uri": "https://localhost:8080/"
        }
      },
      "execution_count": 33,
      "outputs": [
        {
          "output_type": "stream",
          "name": "stdout",
          "text": [
            "10  \n",
            "10 11  \n",
            "10 11 12  \n",
            "10 11 12 13  \n"
          ]
        }
      ]
    },
    {
      "cell_type": "code",
      "source": [
        "for i in range(1,5):\n",
        "\n",
        "  for j in range(4,i-1,-1):\n",
        "    print(\"* \", end = \" \")\n",
        "  print(\" \")"
      ],
      "metadata": {
        "id": "PTvLiFyfkKVO",
        "outputId": "1f19f23f-d61e-448b-9c6c-de935cfb5548",
        "colab": {
          "base_uri": "https://localhost:8080/"
        }
      },
      "execution_count": 34,
      "outputs": [
        {
          "output_type": "stream",
          "name": "stdout",
          "text": [
            "*  *  *  *   \n",
            "*  *  *   \n",
            "*  *   \n",
            "*   \n"
          ]
        }
      ]
    }
  ]
}